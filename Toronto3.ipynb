{
    "cells": [
        {
            "cell_type": "markdown",
            "metadata": {
                "collapsed": true
            },
            "source": "# Clustering and Segmenting Neighborhoods in Toronto"
        },
        {
            "cell_type": "markdown",
            "metadata": {},
            "source": "## Week 3 - Capstone Project Assaignment"
        },
        {
            "cell_type": "code",
            "execution_count": null,
            "metadata": {},
            "outputs": [
                {
                    "name": "stdout",
                    "output_type": "stream",
                    "text": "Solving environment: done\n\n## Package Plan ##\n\n  environment location: /opt/conda/envs/Python36\n\n  added / updated specs: \n    - beautifulsoup4\n\n\nThe following packages will be downloaded:\n\n    package                    |            build\n    ---------------------------|-----------------\n    python_abi-3.6             |          1_cp36m           4 KB  conda-forge\n    ca-certificates-2020.6.20  |       hecda079_0         145 KB  conda-forge\n    openssl-1.1.1g             |       h516909a_0         2.1 MB  conda-forge\n    certifi-2020.6.20          |   py36h9f0ad1d_0         151 KB  conda-forge\n    beautifulsoup4-4.9.1       |   py36h9f0ad1d_0         163 KB  conda-forge\n    ------------------------------------------------------------\n                                           Total:         2.6 MB\n\nThe following NEW packages will be INSTALLED:\n\n    python_abi:      3.6-1_cp36m       conda-forge\n\nThe following packages will be UPDATED:\n\n    beautifulsoup4:  4.7.1-py36_1                  --> 4.9.1-py36h9f0ad1d_0     conda-forge\n    ca-certificates: 2020.1.1-0                    --> 2020.6.20-hecda079_0     conda-forge\n    certifi:         2020.6.20-py36_0              --> 2020.6.20-py36h9f0ad1d_0 conda-forge\n    openssl:         1.1.1g-h7b6447c_0             --> 1.1.1g-h516909a_0        conda-forge\n\n\nDownloading and Extracting Packages\npython_abi-3.6       | 4 KB      | ##################################### | 100% \nca-certificates-2020 | 145 KB    | ##################################### | 100% \nopenssl-1.1.1g       | 2.1 MB    | ##################################### | 100% \ncertifi-2020.6.20    | 151 KB    | ##################################### | 100% \nbeautifulsoup4-4.9.1 | 163 KB    | ##################################### | 100% \nPreparing transaction: done\nVerifying transaction: done\nExecuting transaction: done\nSolving environment: \\ "
                }
            ],
            "source": "!conda install -c conda-forge beautifulsoup4 --yes\n\n!conda install -c conda-forge geopy --yes\n\n!conda install -c conda-forge folium=0.5.0 --yes\n\nprint('Libraries installed!')"
        },
        {
            "cell_type": "code",
            "execution_count": null,
            "metadata": {},
            "outputs": [],
            "source": "import numpy as np\nimport pandas as pd\npd.set_option('display.max_columns' , None)\npd.set_option('display.max_rows' , None)\n\nimport requests\nimport json\nfrom pandas.io.json import json_normalize\n\nfrom bs4 import BeautifulSoup\n\nfrom geopy.geocoders import Nominatim\n\nimport folium\nimport matplotlib.cm as cm\nimport matplotlib.colors as colors\n\nfrom sklearn.cluster import KMeans\n\nprint(\"Libraries Imported\")"
        },
        {
            "cell_type": "code",
            "execution_count": null,
            "metadata": {},
            "outputs": [],
            "source": "# open Wiki page with Beautiful Soup\ndata = requests.get('https://en.wikipedia.org/wiki/List_of_postal_codes_of_Canada:_M').text\nsoup = BeautifulSoup(data, 'html.parser')"
        },
        {
            "cell_type": "code",
            "execution_count": null,
            "metadata": {},
            "outputs": [],
            "source": "postalCodeList = []\nboroughList = []\nneighborhoodList = []\n\nfor row in soup.find('table').find_all('tr') :\n    cells = row.find_all('td')\n    if(len(cells) > 0) :\n        postalCodeList.append(cells[0].text.rstrip('\\n'))\n        boroughList.append(cells[1].text.rstrip('\\n'))\n        neighborhoodList.append(cells[2].text.rstrip('\\n')) #removing newline character from cell"
        },
        {
            "cell_type": "code",
            "execution_count": null,
            "metadata": {},
            "outputs": [],
            "source": "# creating the dataframe\ntoronto_neighborhood = [('PostalCode' , postalCodeList),\n                        ('Borough' , boroughList),\n                        ('Neighborhood' , neighborhoodList)]\ntoronto_df = pd.DataFrame.from_dict(dict(toronto_neighborhood))\ntoronto_df.head()"
        },
        {
            "cell_type": "code",
            "execution_count": null,
            "metadata": {},
            "outputs": [],
            "source": "#remove rows that are not assaigned \ntoronto_df_dropna = toronto_df[toronto_df.Borough != 'Not assigned'].reset_index(drop=True)\ntoronto_df_dropna.head()"
        },
        {
            "cell_type": "code",
            "execution_count": null,
            "metadata": {},
            "outputs": [],
            "source": "# grouping the neighborhoods according to Boroughs and PostalCode\ntoronto_df_grouped = toronto_df_dropna.groupby(['PostalCode','Borough'], as_index=False).agg(lambda x: ','.join(x))\ntoronto_df_grouped.head()"
        },
        {
            "cell_type": "code",
            "execution_count": null,
            "metadata": {},
            "outputs": [],
            "source": "na_neigh_rows = toronto_df_grouped.Neighborhood == 'Not assigned'\ntoronto_df_grouped.loc[na_neigh_rows, 'Neighborhood'] = toronto_df_grouped.loc[na_neigh_rows, 'Borough']\ntoronto_df_grouped.head()"
        },
        {
            "cell_type": "code",
            "execution_count": null,
            "metadata": {},
            "outputs": [],
            "source": "toronto_df_cleaned = toronto_df_grouped\ntoronto_df_cleaned.shape"
        },
        {
            "cell_type": "markdown",
            "metadata": {},
            "source": "# Part 2: Getting coordinates and add to the Toronto DataFrame\n\n## Now that you have built a dataframe of the postal code of each neighborhood along with the borough name and neighborhood name, in order to utilize the Foursquare location data, we need to get the latitude and the longitude coordinates of each neighborhood. In an older version of this course, we were leveraging the Google Maps Geocoding API to get the latitude and the longitude coordinates of each neighborhood. However, recently Google started charging for their API: http://geoawesomeness.com/developers-up-in-arms-over-google-maps-api-insane-price-hike/, so we will use the Geocoder Python package instead: https://geocoder.readthedocs.io/index.html.\n\n### The problem with this Package is you have to be persistent sometimes in order to get the geographical coordinates of a given postal code. So you can make a call to get the latitude and longitude coordinates of a given postal code and the result would be None, and then make the call again and you would get the coordinates.\n\n### geolocator = Nominatim(user_agent=\"tl-toronto-neigh\")\n\n### postalList = toronto_df_cleaned['PostalCode'].values latList = [] longList = []\n\n### for post in postalList: location = None while(location is None): location = geolocator.geocode('{}, Toronto, Ontario'.format(post)) if(location != None): lat = location.latitude long = location.longitude print(post, lat, long) latList.append(lat) longList.append(long)\n\n### toronto_coors = [('Postal Code', postalList), ('Latitude', latList), ('Longitude', longList)] coors = pd.DataFrame.from_items(toronto_coors)\n\n### Note: Given that this package can be very unreliable, in case you are not able to get the geographical coordinates of the neighborhoods using the Geocoder package, here is a link to a csv file that has the geographical coordinates of each postal code: http://cocl.us/Geospatial_data"
        },
        {
            "cell_type": "code",
            "execution_count": null,
            "metadata": {},
            "outputs": [],
            "source": "!wget -q -O \"toronto_coordinates.csv\" http://cocl.us/Geospatial_data\nprint('Coordinates downloaded!')\ncoors = pd.read_csv('toronto_coordinates.csv')\n"
        },
        {
            "cell_type": "code",
            "execution_count": null,
            "metadata": {},
            "outputs": [],
            "source": "print(coors.shape)"
        },
        {
            "cell_type": "code",
            "execution_count": null,
            "metadata": {},
            "outputs": [],
            "source": "coors.head()\n"
        },
        {
            "cell_type": "code",
            "execution_count": null,
            "metadata": {},
            "outputs": [],
            "source": "\ntoronto_df_temp = toronto_df_cleaned.set_index('PostalCode')\ncoors_temp = coors.set_index('Postal Code')\ntoronto_df_coors = pd.concat([toronto_df_temp , coors_temp] , axis = 1 , join='inner')\n"
        },
        {
            "cell_type": "code",
            "execution_count": null,
            "metadata": {},
            "outputs": [],
            "source": "\ntoronto_df_coors.index.name = 'PostalCode'\ntoronto_df_coors.reset_index(inplace = True)\n"
        },
        {
            "cell_type": "code",
            "execution_count": null,
            "metadata": {},
            "outputs": [],
            "source": "\nprint(toronto_df_coors.shape)\ntoronto_df_coors.head()\n"
        },
        {
            "cell_type": "markdown",
            "metadata": {},
            "source": "# Part 3: Explore and cluster the neighborhoods in Toronto"
        },
        {
            "cell_type": "code",
            "execution_count": null,
            "metadata": {},
            "outputs": [],
            "source": "\naddress = 'Toronto, Ontario'\n\ngeolocator = Nominatim(user_agent = \"tl-toronto-neigh\")\nlocation = geolocator.geocode(address)\nlati = location.latitude\nlongi = location.longitude\nprint(f\"The co-ordinates of the location are {lati} , {longi}\")\n"
        },
        {
            "cell_type": "code",
            "execution_count": null,
            "metadata": {},
            "outputs": [],
            "source": "\nmap_toronto = folium.Map(location = [lati,longi] , zoom_start = 11)\n\nfor lat,lon,post,borough,neigh in zip(toronto_df_coors['Latitude'], toronto_df_coors['Longitude'], toronto_df_coors['PostalCode'], toronto_df_coors['Borough'], toronto_df_coors['Neighborhood']) :\n    label = \"{} ({}): {}\".format(borough, post, neigh)\n    popup = folium.Popup(label , parse_html = True)\n    folium.CircleMarker(\n        [lat, lon],\n        radius=8,\n        popup=popup,\n        color='blue',\n        fill=True,\n        fill_color='#3186cc',\n        fill_opacity=0.4,\n        parse_html=False).add_to(map_toronto)\n\nmap_toronto\n"
        },
        {
            "cell_type": "code",
            "execution_count": null,
            "metadata": {},
            "outputs": [],
            "source": "\ntoronto_boroughs = ['East Toronto', 'Central Toronto', 'Downtown Toronto', 'West Toronto']\ntoronto_central_df = toronto_df_coors[toronto_df_coors['Borough'].isin(toronto_boroughs)].reset_index(drop = True)\nprint(toronto_central.shape)\ntoronto_central.head()\n"
        },
        {
            "cell_type": "code",
            "execution_count": null,
            "metadata": {},
            "outputs": [],
            "source": "\nfor lat, long, post, borough, neigh in zip(toronto_central_df['Latitude'], toronto_central_df['Longitude'], toronto_central_df['PostalCode'], toronto_central_df['Borough'], toronto_central_df['Neighborhood']):\n    label = \"{} ({}): {}\".format(borough, post, neigh)\n    popup = folium.Popup(label, parse_html=True)\n    folium.CircleMarker(\n        [lat, long],\n        radius=5,\n        popup=popup,\n        color='blue',\n        fill=True,\n        fill_color='#3186cc',\n        fill_opacity=0.7,\n        parse_html=False).add_to(map_toronto)\n    \nmap_toronto\n"
        },
        {
            "cell_type": "code",
            "execution_count": null,
            "metadata": {},
            "outputs": [],
            "source": "\nCLIENT_ID = 'XEIY3JJQY0QPPPG2MDYWUF11EPSEOHRZJBCJCCIFVJYBZ10O'\nCLIENT_SECRET = 'LIANY3ONJGEYMTTUHOQSOS2S33Q4K4VABZPEYAMU2YDLR301'\nVERSION = '20200412'\n"
        },
        {
            "cell_type": "code",
            "execution_count": null,
            "metadata": {},
            "outputs": [],
            "source": "\nradius = 500\nLIMIT = 100\n\nvenues = []\n\nfor lat, long, post, borough, neighborhood in zip(toronto_central_df['Latitude'], toronto_central_df['Longitude'], toronto_central_df['PostalCode'], toronto_central_df['Borough'], toronto_central_df['Neighborhood']):\n    url = \"https://api.foursquare.com/v2/venues/explore?client_id={}&client_secret={}&v={}&ll={},{}&radius={}&limit={}\".format(\n        CLIENT_ID,\n        CLIENT_SECRET,\n        VERSION,\n        lat,\n        long,\n        radius, \n        LIMIT)\n    \n    results = requests.get(url).json()[\"response\"]['groups'][0]['items']\n    \n    for venue in results : \n        venues.append((\n        post,\n        borough,\n        neighborhood,\n        lat,\n        long,\n        venue['venue']['name'],\n        venue['venue']['location']['lat'], \n        venue['venue']['location']['lng'],  \n        venue['venue']['categories'][0]['name']))\n"
        },
        {
            "cell_type": "code",
            "execution_count": null,
            "metadata": {},
            "outputs": [],
            "source": "\nvenues_df = pd.DataFrame(venues)\nvenues_df.columns =  ['PostalCode', 'Borough', 'Neighborhood', 'BoroughLatitude', 'BoroughLongitude', 'VenueName', 'VenueLatitude', 'VenueLongitude', 'VenueCategory']\nprint(venues_df.shape)\nvenues_df.head()\n"
        },
        {
            "cell_type": "code",
            "execution_count": null,
            "metadata": {},
            "outputs": [],
            "source": "\nvenues_df.groupby(['PostalCode' , 'Borough' , 'Neighborhood'])['VenueName'].count()\n"
        },
        {
            "cell_type": "code",
            "execution_count": null,
            "metadata": {},
            "outputs": [],
            "source": "len(venues_df['VenueCategory'].unique())\n"
        },
        {
            "cell_type": "code",
            "execution_count": null,
            "metadata": {},
            "outputs": [],
            "source": ""
        }
    ],
    "metadata": {
        "kernelspec": {
            "display_name": "Python 3.6",
            "language": "python",
            "name": "python3"
        },
        "language_info": {
            "codemirror_mode": {
                "name": "ipython",
                "version": 3
            },
            "file_extension": ".py",
            "mimetype": "text/x-python",
            "name": "python",
            "nbconvert_exporter": "python",
            "pygments_lexer": "ipython3",
            "version": "3.6.9"
        }
    },
    "nbformat": 4,
    "nbformat_minor": 1
}