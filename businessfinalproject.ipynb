{
    "cells": [
        {
            "cell_type": "markdown",
            "metadata": {},
            "source": "#  COURSERA CAPSTONE PROJECT :\n## Clustering Neighbourhoods of Greater Manchester :\n### Importing the required libraries"
        },
        {
            "cell_type": "code",
            "execution_count": 2,
            "metadata": {},
            "outputs": [],
            "source": "\nfrom bs4 import BeautifulSoup\nimport requests\nimport pandas as pd\nimport numpy as np\nimport csv"
        },
        {
            "cell_type": "markdown",
            "metadata": {},
            "source": "### Setting maxcolwidth to 800 for good viewability"
        },
        {
            "cell_type": "code",
            "execution_count": 3,
            "metadata": {},
            "outputs": [],
            "source": "\npd.set_option('max_colwidth', 800)\n"
        },
        {
            "cell_type": "markdown",
            "metadata": {},
            "source": "### Getting the source webpage , assigining the variable source to it , iniatilizing the beautifulsoup object to soup and finding the retrieving the data"
        },
        {
            "cell_type": "code",
            "execution_count": 4,
            "metadata": {},
            "outputs": [
                {
                    "name": "stdout",
                    "output_type": "stream",
                    "text": "['Category:Areas of Bolton', 'Category:Areas of Manchester', 'Category:Areas of the Metropolitan Borough of Rochdale', 'Category:Areas of Stockport', 'Adswood', 'Alkrington', 'Bedford, Greater Manchester', 'Birch, Greater Manchester', 'Boothstown', 'Bradshaw, Greater Manchester', 'Brandlesholme', 'Bromley Cross', 'Bryn, Greater Manchester', 'Clifton, Greater Manchester', 'Cox Green, Greater Manchester', 'Davyhulme', 'Fairfield, Tameside', 'Fishpool', 'Four Heatons', 'Gigg, Greater Manchester', 'Hart Common', 'Hattersley', 'Heyheads', 'High Crompton', 'Higher End', 'Hindsford', 'Houldsworth Model Village', 'Howe Bridge', 'Ladybrook Valley', 'Langley, Greater Manchester', 'Lees, Greater Manchester', 'Littlemoss', 'Longshaw', 'Makerfield', 'Matley', 'Middlebrook, Greater Manchester', 'Monton', 'Moses Gate', 'Mosley Common', 'Norbury, Greater Manchester', 'North Reddish', 'Old Trafford (area)', 'Orrell, Greater Manchester', 'Patricroft', 'Peel Green', 'Pennington, Greater Manchester', 'Pilsworth', 'Reddish', 'Redvales', 'Romiley', 'Rumworth', 'Rusholme', 'Salford Quays', 'Sedgley Park', 'Shakerley', 'South Reddish', 'South Turton', 'Tonge, Middleton', 'Torkington', 'Trafford Park', 'Unsworth', 'Urmston', 'Wallsuches', 'Walmersley', 'Warburton Green', 'Wardley, Greater Manchester', 'Wingates', 'Woodley, Greater Manchester']\n"
                }
            ],
            "source": "\nfrom bs4 import BeautifulSoup \nimport requests\n\nsource = requests.get('https://en.wikipedia.org/wiki/Category:Areas_of_Greater_Manchester').text\nsoup = BeautifulSoup(source, 'lxml')\ndummy = soup.find_all(class_='mw-category-group')\nman = []\nfor i in range(len(dummy)):\n    lists = dummy[i].find_all('a')\n    for list in lists:\n        temp = list.get('title')\n        man.append(temp)\n\nman\n\nfor i in range(len(man)):\n    if i<=20:\n        man.remove(man[i])\n\nprint(man)\n"
        },
        {
            "cell_type": "code",
            "execution_count": 5,
            "metadata": {},
            "outputs": [
                {
                    "data": {
                        "text/plain": "['Adswood',\n 'Alkrington',\n 'Bedford, Greater Manchester',\n 'Birch, Greater Manchester',\n 'Boothstown',\n 'Bradshaw, Greater Manchester',\n 'Brandlesholme',\n 'Bromley Cross',\n 'Bryn, Greater Manchester',\n 'Clifton, Greater Manchester',\n 'Cox Green, Greater Manchester',\n 'Davyhulme',\n 'Fairfield, Tameside',\n 'Fishpool',\n 'Four Heatons',\n 'Gigg, Greater Manchester',\n 'Hart Common',\n 'Hattersley',\n 'Heyheads',\n 'High Crompton',\n 'Higher End',\n 'Hindsford',\n 'Houldsworth Model Village',\n 'Howe Bridge',\n 'Ladybrook Valley',\n 'Langley, Greater Manchester',\n 'Lees, Greater Manchester',\n 'Littlemoss',\n 'Longshaw',\n 'Makerfield',\n 'Matley',\n 'Middlebrook, Greater Manchester',\n 'Monton',\n 'Moses Gate',\n 'Mosley Common',\n 'Norbury, Greater Manchester',\n 'North Reddish',\n 'Old Trafford (area)',\n 'Orrell, Greater Manchester',\n 'Patricroft',\n 'Peel Green',\n 'Pennington, Greater Manchester',\n 'Pilsworth',\n 'Reddish',\n 'Redvales',\n 'Romiley',\n 'Rumworth',\n 'Rusholme',\n 'Salford Quays',\n 'Sedgley Park',\n 'Shakerley',\n 'South Reddish',\n 'South Turton',\n 'Tonge, Middleton',\n 'Torkington',\n 'Trafford Park',\n 'Unsworth',\n 'Urmston',\n 'Wallsuches',\n 'Walmersley',\n 'Warburton Green',\n 'Wardley, Greater Manchester',\n 'Wingates',\n 'Woodley, Greater Manchester']"
                    },
                    "execution_count": 5,
                    "metadata": {},
                    "output_type": "execute_result"
                }
            ],
            "source": "\nman.remove('Category:Areas of Bolton')\nman.remove('Category:Areas of Manchester')\nman.remove('Category:Areas of the Metropolitan Borough of Rochdale')\nman.remove('Category:Areas of Stockport')\nman\n"
        },
        {
            "cell_type": "code",
            "execution_count": 6,
            "metadata": {},
            "outputs": [
                {
                    "data": {
                        "text/html": "<div>\n<style scoped>\n    .dataframe tbody tr th:only-of-type {\n        vertical-align: middle;\n    }\n\n    .dataframe tbody tr th {\n        vertical-align: top;\n    }\n\n    .dataframe thead th {\n        text-align: right;\n    }\n</style>\n<table border=\"1\" class=\"dataframe\">\n  <thead>\n    <tr style=\"text-align: right;\">\n      <th></th>\n      <th>Area Of Manchester</th>\n    </tr>\n  </thead>\n  <tbody>\n    <tr>\n      <th>0</th>\n      <td>Adswood</td>\n    </tr>\n    <tr>\n      <th>1</th>\n      <td>Alkrington</td>\n    </tr>\n    <tr>\n      <th>2</th>\n      <td>Bedford, Greater Manchester</td>\n    </tr>\n    <tr>\n      <th>3</th>\n      <td>Birch, Greater Manchester</td>\n    </tr>\n    <tr>\n      <th>4</th>\n      <td>Boothstown</td>\n    </tr>\n    <tr>\n      <th>5</th>\n      <td>Bradshaw, Greater Manchester</td>\n    </tr>\n    <tr>\n      <th>6</th>\n      <td>Brandlesholme</td>\n    </tr>\n    <tr>\n      <th>7</th>\n      <td>Bromley Cross</td>\n    </tr>\n    <tr>\n      <th>8</th>\n      <td>Bryn, Greater Manchester</td>\n    </tr>\n    <tr>\n      <th>9</th>\n      <td>Clifton, Greater Manchester</td>\n    </tr>\n    <tr>\n      <th>10</th>\n      <td>Cox Green, Greater Manchester</td>\n    </tr>\n    <tr>\n      <th>11</th>\n      <td>Davyhulme</td>\n    </tr>\n    <tr>\n      <th>12</th>\n      <td>Fairfield, Tameside</td>\n    </tr>\n    <tr>\n      <th>13</th>\n      <td>Fishpool</td>\n    </tr>\n    <tr>\n      <th>14</th>\n      <td>Four Heatons</td>\n    </tr>\n    <tr>\n      <th>15</th>\n      <td>Gigg, Greater Manchester</td>\n    </tr>\n    <tr>\n      <th>16</th>\n      <td>Hart Common</td>\n    </tr>\n    <tr>\n      <th>17</th>\n      <td>Hattersley</td>\n    </tr>\n    <tr>\n      <th>18</th>\n      <td>Heyheads</td>\n    </tr>\n    <tr>\n      <th>19</th>\n      <td>High Crompton</td>\n    </tr>\n    <tr>\n      <th>20</th>\n      <td>Higher End</td>\n    </tr>\n    <tr>\n      <th>21</th>\n      <td>Hindsford</td>\n    </tr>\n    <tr>\n      <th>22</th>\n      <td>Houldsworth Model Village</td>\n    </tr>\n    <tr>\n      <th>23</th>\n      <td>Howe Bridge</td>\n    </tr>\n    <tr>\n      <th>24</th>\n      <td>Ladybrook Valley</td>\n    </tr>\n    <tr>\n      <th>25</th>\n      <td>Langley, Greater Manchester</td>\n    </tr>\n    <tr>\n      <th>26</th>\n      <td>Lees, Greater Manchester</td>\n    </tr>\n    <tr>\n      <th>27</th>\n      <td>Littlemoss</td>\n    </tr>\n    <tr>\n      <th>28</th>\n      <td>Longshaw</td>\n    </tr>\n    <tr>\n      <th>29</th>\n      <td>Makerfield</td>\n    </tr>\n    <tr>\n      <th>...</th>\n      <td>...</td>\n    </tr>\n    <tr>\n      <th>34</th>\n      <td>Mosley Common</td>\n    </tr>\n    <tr>\n      <th>35</th>\n      <td>Norbury, Greater Manchester</td>\n    </tr>\n    <tr>\n      <th>36</th>\n      <td>North Reddish</td>\n    </tr>\n    <tr>\n      <th>37</th>\n      <td>Old Trafford (area)</td>\n    </tr>\n    <tr>\n      <th>38</th>\n      <td>Orrell, Greater Manchester</td>\n    </tr>\n    <tr>\n      <th>39</th>\n      <td>Patricroft</td>\n    </tr>\n    <tr>\n      <th>40</th>\n      <td>Peel Green</td>\n    </tr>\n    <tr>\n      <th>41</th>\n      <td>Pennington, Greater Manchester</td>\n    </tr>\n    <tr>\n      <th>42</th>\n      <td>Pilsworth</td>\n    </tr>\n    <tr>\n      <th>43</th>\n      <td>Reddish</td>\n    </tr>\n    <tr>\n      <th>44</th>\n      <td>Redvales</td>\n    </tr>\n    <tr>\n      <th>45</th>\n      <td>Romiley</td>\n    </tr>\n    <tr>\n      <th>46</th>\n      <td>Rumworth</td>\n    </tr>\n    <tr>\n      <th>47</th>\n      <td>Rusholme</td>\n    </tr>\n    <tr>\n      <th>48</th>\n      <td>Salford Quays</td>\n    </tr>\n    <tr>\n      <th>49</th>\n      <td>Sedgley Park</td>\n    </tr>\n    <tr>\n      <th>50</th>\n      <td>Shakerley</td>\n    </tr>\n    <tr>\n      <th>51</th>\n      <td>South Reddish</td>\n    </tr>\n    <tr>\n      <th>52</th>\n      <td>South Turton</td>\n    </tr>\n    <tr>\n      <th>53</th>\n      <td>Tonge, Middleton</td>\n    </tr>\n    <tr>\n      <th>54</th>\n      <td>Torkington</td>\n    </tr>\n    <tr>\n      <th>55</th>\n      <td>Trafford Park</td>\n    </tr>\n    <tr>\n      <th>56</th>\n      <td>Unsworth</td>\n    </tr>\n    <tr>\n      <th>57</th>\n      <td>Urmston</td>\n    </tr>\n    <tr>\n      <th>58</th>\n      <td>Wallsuches</td>\n    </tr>\n    <tr>\n      <th>59</th>\n      <td>Walmersley</td>\n    </tr>\n    <tr>\n      <th>60</th>\n      <td>Warburton Green</td>\n    </tr>\n    <tr>\n      <th>61</th>\n      <td>Wardley, Greater Manchester</td>\n    </tr>\n    <tr>\n      <th>62</th>\n      <td>Wingates</td>\n    </tr>\n    <tr>\n      <th>63</th>\n      <td>Woodley, Greater Manchester</td>\n    </tr>\n  </tbody>\n</table>\n<p>64 rows \u00d7 1 columns</p>\n</div>",
                        "text/plain": "                Area Of Manchester\n0                          Adswood\n1                       Alkrington\n2      Bedford, Greater Manchester\n3        Birch, Greater Manchester\n4                       Boothstown\n5     Bradshaw, Greater Manchester\n6                    Brandlesholme\n7                    Bromley Cross\n8         Bryn, Greater Manchester\n9      Clifton, Greater Manchester\n10   Cox Green, Greater Manchester\n11                       Davyhulme\n12             Fairfield, Tameside\n13                        Fishpool\n14                    Four Heatons\n15        Gigg, Greater Manchester\n16                     Hart Common\n17                      Hattersley\n18                        Heyheads\n19                   High Crompton\n20                      Higher End\n21                       Hindsford\n22       Houldsworth Model Village\n23                     Howe Bridge\n24                Ladybrook Valley\n25     Langley, Greater Manchester\n26        Lees, Greater Manchester\n27                      Littlemoss\n28                        Longshaw\n29                      Makerfield\n..                             ...\n34                   Mosley Common\n35     Norbury, Greater Manchester\n36                   North Reddish\n37             Old Trafford (area)\n38      Orrell, Greater Manchester\n39                      Patricroft\n40                      Peel Green\n41  Pennington, Greater Manchester\n42                       Pilsworth\n43                         Reddish\n44                        Redvales\n45                         Romiley\n46                        Rumworth\n47                        Rusholme\n48                   Salford Quays\n49                    Sedgley Park\n50                       Shakerley\n51                   South Reddish\n52                    South Turton\n53                Tonge, Middleton\n54                      Torkington\n55                   Trafford Park\n56                        Unsworth\n57                         Urmston\n58                      Wallsuches\n59                      Walmersley\n60                 Warburton Green\n61     Wardley, Greater Manchester\n62                        Wingates\n63     Woodley, Greater Manchester\n\n[64 rows x 1 columns]"
                    },
                    "execution_count": 6,
                    "metadata": {},
                    "output_type": "execute_result"
                }
            ],
            "source": "\ndf = pd.DataFrame()\ndf['Area Of Manchester'] = man\ndf\n"
        },
        {
            "cell_type": "markdown",
            "metadata": {},
            "source": "### Finding out the shape :"
        },
        {
            "cell_type": "code",
            "execution_count": 7,
            "metadata": {},
            "outputs": [
                {
                    "name": "stdout",
                    "output_type": "stream",
                    "text": "The shape is : (64, 1)\n"
                }
            ],
            "source": "\nprint(\"The shape is : \" + str(df.shape))\n"
        },
        {
            "cell_type": "code",
            "execution_count": 10,
            "metadata": {},
            "outputs": [
                {
                    "name": "stdout",
                    "output_type": "stream",
                    "text": "\nThe following command must be run outside of the IPython shell:\n\n    $ pip install opencage\n\nThe Python package manager (pip) can only be used from outside of IPython.\nPlease reissue the `pip` command in a separate terminal or command prompt.\n\nSee the Python documentation for more information on how to install packages:\n\n    https://docs.python.org/3/installing/\n"
                }
            ],
            "source": "pip install opencage\n"
        },
        {
            "cell_type": "code",
            "execution_count": 12,
            "metadata": {},
            "outputs": [
                {
                    "ename": "ModuleNotFoundError",
                    "evalue": "No module named 'opencage'",
                    "output_type": "error",
                    "traceback": [
                        "\u001b[0;31m---------------------------------------------------------------------------\u001b[0m",
                        "\u001b[0;31mModuleNotFoundError\u001b[0m                       Traceback (most recent call last)",
                        "\u001b[0;32m<ipython-input-12-f2af1145ea48>\u001b[0m in \u001b[0;36m<module>\u001b[0;34m\u001b[0m\n\u001b[1;32m      1\u001b[0m \u001b[0;34m\u001b[0m\u001b[0m\n\u001b[0;32m----> 2\u001b[0;31m \u001b[0;32mfrom\u001b[0m \u001b[0mopencage\u001b[0m\u001b[0;34m.\u001b[0m\u001b[0mgeocoder\u001b[0m \u001b[0;32mimport\u001b[0m \u001b[0mOpenCageGeocode\u001b[0m\u001b[0;34m\u001b[0m\u001b[0;34m\u001b[0m\u001b[0m\n\u001b[0m\u001b[1;32m      3\u001b[0m \u001b[0;32mfrom\u001b[0m \u001b[0mpprint\u001b[0m \u001b[0;32mimport\u001b[0m \u001b[0mpprint\u001b[0m\u001b[0;34m\u001b[0m\u001b[0;34m\u001b[0m\u001b[0m\n",
                        "\u001b[0;31mModuleNotFoundError\u001b[0m: No module named 'opencage'"
                    ]
                }
            ],
            "source": "\nfrom opencage.geocoder import OpenCageGeocode\nfrom pprint import pprint\n"
        },
        {
            "cell_type": "code",
            "execution_count": 13,
            "metadata": {},
            "outputs": [
                {
                    "ename": "NameError",
                    "evalue": "name 'OpenCageGeocode' is not defined",
                    "output_type": "error",
                    "traceback": [
                        "\u001b[0;31m---------------------------------------------------------------------------\u001b[0m",
                        "\u001b[0;31mNameError\u001b[0m                                 Traceback (most recent call last)",
                        "\u001b[0;32m<ipython-input-13-a146cec06113>\u001b[0m in \u001b[0;36m<module>\u001b[0;34m\u001b[0m\n\u001b[1;32m      1\u001b[0m \u001b[0;34m\u001b[0m\u001b[0m\n\u001b[1;32m      2\u001b[0m \u001b[0mkey\u001b[0m \u001b[0;34m=\u001b[0m \u001b[0;34m'ac2a83debe8745ac945cf623945274fb'\u001b[0m\u001b[0;34m\u001b[0m\u001b[0;34m\u001b[0m\u001b[0m\n\u001b[0;32m----> 3\u001b[0;31m \u001b[0mgeocoder\u001b[0m \u001b[0;34m=\u001b[0m \u001b[0mOpenCageGeocode\u001b[0m\u001b[0;34m(\u001b[0m\u001b[0mkey\u001b[0m\u001b[0;34m)\u001b[0m\u001b[0;34m\u001b[0m\u001b[0;34m\u001b[0m\u001b[0m\n\u001b[0m",
                        "\u001b[0;31mNameError\u001b[0m: name 'OpenCageGeocode' is not defined"
                    ]
                }
            ],
            "source": "\nkey = 'ac2a83debe8745ac945cf623945274fb'\ngeocoder = OpenCageGeocode(key)\n"
        },
        {
            "cell_type": "code",
            "execution_count": 14,
            "metadata": {},
            "outputs": [
                {
                    "ename": "NameError",
                    "evalue": "name 'geocoder' is not defined",
                    "output_type": "error",
                    "traceback": [
                        "\u001b[0;31m---------------------------------------------------------------------------\u001b[0m",
                        "\u001b[0;31mNameError\u001b[0m                                 Traceback (most recent call last)",
                        "\u001b[0;32m<ipython-input-14-43791e68cbbb>\u001b[0m in \u001b[0;36m<module>\u001b[0;34m\u001b[0m\n\u001b[1;32m      7\u001b[0m \u001b[0;32mfor\u001b[0m \u001b[0mname\u001b[0m \u001b[0;32min\u001b[0m \u001b[0mdf\u001b[0m\u001b[0;34m[\u001b[0m\u001b[0;34m'Area Of Manchester'\u001b[0m\u001b[0;34m]\u001b[0m\u001b[0;34m:\u001b[0m\u001b[0;34m\u001b[0m\u001b[0;34m\u001b[0m\u001b[0m\n\u001b[1;32m      8\u001b[0m     \u001b[0mquery\u001b[0m \u001b[0;34m=\u001b[0m \u001b[0mstr\u001b[0m\u001b[0;34m(\u001b[0m\u001b[0mname\u001b[0m\u001b[0;34m)\u001b[0m \u001b[0;34m+\u001b[0m \u001b[0menco\u001b[0m\u001b[0;34m\u001b[0m\u001b[0;34m\u001b[0m\u001b[0m\n\u001b[0;32m----> 9\u001b[0;31m     \u001b[0mresult\u001b[0m \u001b[0;34m=\u001b[0m \u001b[0mgeocoder\u001b[0m\u001b[0;34m.\u001b[0m\u001b[0mgeocode\u001b[0m\u001b[0;34m(\u001b[0m\u001b[0mquery\u001b[0m\u001b[0;34m)\u001b[0m\u001b[0;34m\u001b[0m\u001b[0;34m\u001b[0m\u001b[0m\n\u001b[0m\u001b[1;32m     10\u001b[0m     \u001b[0mlat\u001b[0m\u001b[0;34m.\u001b[0m\u001b[0mappend\u001b[0m\u001b[0;34m(\u001b[0m\u001b[0mresult\u001b[0m\u001b[0;34m[\u001b[0m\u001b[0;36m0\u001b[0m\u001b[0;34m]\u001b[0m\u001b[0;34m[\u001b[0m\u001b[0;34m'geometry'\u001b[0m\u001b[0;34m]\u001b[0m\u001b[0;34m[\u001b[0m\u001b[0;34m'lat'\u001b[0m\u001b[0;34m]\u001b[0m\u001b[0;34m)\u001b[0m\u001b[0;34m\u001b[0m\u001b[0;34m\u001b[0m\u001b[0m\n\u001b[1;32m     11\u001b[0m     \u001b[0mlon\u001b[0m\u001b[0;34m.\u001b[0m\u001b[0mappend\u001b[0m\u001b[0;34m(\u001b[0m\u001b[0mresult\u001b[0m\u001b[0;34m[\u001b[0m\u001b[0;36m0\u001b[0m\u001b[0;34m]\u001b[0m\u001b[0;34m[\u001b[0m\u001b[0;34m'geometry'\u001b[0m\u001b[0;34m]\u001b[0m\u001b[0;34m[\u001b[0m\u001b[0;34m'lng'\u001b[0m\u001b[0;34m]\u001b[0m\u001b[0;34m)\u001b[0m\u001b[0;34m\u001b[0m\u001b[0;34m\u001b[0m\u001b[0m\n",
                        "\u001b[0;31mNameError\u001b[0m: name 'geocoder' is not defined"
                    ]
                }
            ],
            "source": "\nenco = ' , Greater Manchester'\n\nlat = []\nlon = []\n\nfor name in df['Area Of Manchester']:\n    query = str(name) + enco\n    result = geocoder.geocode(query)\n    lat.append(result[0]['geometry']['lat'])\n    lon.append(result[0]['geometry']['lng'])\n\ndf['Latitudes'] = lat\ndf['Longitudes'] = lon\n"
        },
        {
            "cell_type": "code",
            "execution_count": 15,
            "metadata": {},
            "outputs": [
                {
                    "data": {
                        "text/html": "<div>\n<style scoped>\n    .dataframe tbody tr th:only-of-type {\n        vertical-align: middle;\n    }\n\n    .dataframe tbody tr th {\n        vertical-align: top;\n    }\n\n    .dataframe thead th {\n        text-align: right;\n    }\n</style>\n<table border=\"1\" class=\"dataframe\">\n  <thead>\n    <tr style=\"text-align: right;\">\n      <th></th>\n      <th>Neighborhoods</th>\n    </tr>\n  </thead>\n  <tbody>\n    <tr>\n      <th>0</th>\n      <td>Adswood</td>\n    </tr>\n    <tr>\n      <th>1</th>\n      <td>Alkrington</td>\n    </tr>\n    <tr>\n      <th>2</th>\n      <td>Bedford, Greater Manchester</td>\n    </tr>\n    <tr>\n      <th>3</th>\n      <td>Birch, Greater Manchester</td>\n    </tr>\n    <tr>\n      <th>4</th>\n      <td>Boothstown</td>\n    </tr>\n    <tr>\n      <th>5</th>\n      <td>Bradshaw, Greater Manchester</td>\n    </tr>\n    <tr>\n      <th>6</th>\n      <td>Brandlesholme</td>\n    </tr>\n    <tr>\n      <th>7</th>\n      <td>Bromley Cross</td>\n    </tr>\n    <tr>\n      <th>8</th>\n      <td>Bryn, Greater Manchester</td>\n    </tr>\n    <tr>\n      <th>9</th>\n      <td>Clifton, Greater Manchester</td>\n    </tr>\n    <tr>\n      <th>10</th>\n      <td>Cox Green, Greater Manchester</td>\n    </tr>\n    <tr>\n      <th>11</th>\n      <td>Davyhulme</td>\n    </tr>\n    <tr>\n      <th>12</th>\n      <td>Fairfield, Tameside</td>\n    </tr>\n    <tr>\n      <th>13</th>\n      <td>Fishpool</td>\n    </tr>\n    <tr>\n      <th>14</th>\n      <td>Four Heatons</td>\n    </tr>\n    <tr>\n      <th>15</th>\n      <td>Gigg, Greater Manchester</td>\n    </tr>\n    <tr>\n      <th>16</th>\n      <td>Hart Common</td>\n    </tr>\n    <tr>\n      <th>17</th>\n      <td>Hattersley</td>\n    </tr>\n    <tr>\n      <th>18</th>\n      <td>Heyheads</td>\n    </tr>\n    <tr>\n      <th>19</th>\n      <td>High Crompton</td>\n    </tr>\n    <tr>\n      <th>20</th>\n      <td>Higher End</td>\n    </tr>\n    <tr>\n      <th>21</th>\n      <td>Hindsford</td>\n    </tr>\n    <tr>\n      <th>22</th>\n      <td>Houldsworth Model Village</td>\n    </tr>\n    <tr>\n      <th>23</th>\n      <td>Howe Bridge</td>\n    </tr>\n    <tr>\n      <th>24</th>\n      <td>Ladybrook Valley</td>\n    </tr>\n    <tr>\n      <th>25</th>\n      <td>Langley, Greater Manchester</td>\n    </tr>\n    <tr>\n      <th>26</th>\n      <td>Lees, Greater Manchester</td>\n    </tr>\n    <tr>\n      <th>27</th>\n      <td>Littlemoss</td>\n    </tr>\n    <tr>\n      <th>28</th>\n      <td>Longshaw</td>\n    </tr>\n    <tr>\n      <th>29</th>\n      <td>Makerfield</td>\n    </tr>\n    <tr>\n      <th>...</th>\n      <td>...</td>\n    </tr>\n    <tr>\n      <th>34</th>\n      <td>Mosley Common</td>\n    </tr>\n    <tr>\n      <th>35</th>\n      <td>Norbury, Greater Manchester</td>\n    </tr>\n    <tr>\n      <th>36</th>\n      <td>North Reddish</td>\n    </tr>\n    <tr>\n      <th>37</th>\n      <td>Old Trafford (area)</td>\n    </tr>\n    <tr>\n      <th>38</th>\n      <td>Orrell, Greater Manchester</td>\n    </tr>\n    <tr>\n      <th>39</th>\n      <td>Patricroft</td>\n    </tr>\n    <tr>\n      <th>40</th>\n      <td>Peel Green</td>\n    </tr>\n    <tr>\n      <th>41</th>\n      <td>Pennington, Greater Manchester</td>\n    </tr>\n    <tr>\n      <th>42</th>\n      <td>Pilsworth</td>\n    </tr>\n    <tr>\n      <th>43</th>\n      <td>Reddish</td>\n    </tr>\n    <tr>\n      <th>44</th>\n      <td>Redvales</td>\n    </tr>\n    <tr>\n      <th>45</th>\n      <td>Romiley</td>\n    </tr>\n    <tr>\n      <th>46</th>\n      <td>Rumworth</td>\n    </tr>\n    <tr>\n      <th>47</th>\n      <td>Rusholme</td>\n    </tr>\n    <tr>\n      <th>48</th>\n      <td>Salford Quays</td>\n    </tr>\n    <tr>\n      <th>49</th>\n      <td>Sedgley Park</td>\n    </tr>\n    <tr>\n      <th>50</th>\n      <td>Shakerley</td>\n    </tr>\n    <tr>\n      <th>51</th>\n      <td>South Reddish</td>\n    </tr>\n    <tr>\n      <th>52</th>\n      <td>South Turton</td>\n    </tr>\n    <tr>\n      <th>53</th>\n      <td>Tonge, Middleton</td>\n    </tr>\n    <tr>\n      <th>54</th>\n      <td>Torkington</td>\n    </tr>\n    <tr>\n      <th>55</th>\n      <td>Trafford Park</td>\n    </tr>\n    <tr>\n      <th>56</th>\n      <td>Unsworth</td>\n    </tr>\n    <tr>\n      <th>57</th>\n      <td>Urmston</td>\n    </tr>\n    <tr>\n      <th>58</th>\n      <td>Wallsuches</td>\n    </tr>\n    <tr>\n      <th>59</th>\n      <td>Walmersley</td>\n    </tr>\n    <tr>\n      <th>60</th>\n      <td>Warburton Green</td>\n    </tr>\n    <tr>\n      <th>61</th>\n      <td>Wardley, Greater Manchester</td>\n    </tr>\n    <tr>\n      <th>62</th>\n      <td>Wingates</td>\n    </tr>\n    <tr>\n      <th>63</th>\n      <td>Woodley, Greater Manchester</td>\n    </tr>\n  </tbody>\n</table>\n<p>64 rows \u00d7 1 columns</p>\n</div>",
                        "text/plain": "                     Neighborhoods\n0                          Adswood\n1                       Alkrington\n2      Bedford, Greater Manchester\n3        Birch, Greater Manchester\n4                       Boothstown\n5     Bradshaw, Greater Manchester\n6                    Brandlesholme\n7                    Bromley Cross\n8         Bryn, Greater Manchester\n9      Clifton, Greater Manchester\n10   Cox Green, Greater Manchester\n11                       Davyhulme\n12             Fairfield, Tameside\n13                        Fishpool\n14                    Four Heatons\n15        Gigg, Greater Manchester\n16                     Hart Common\n17                      Hattersley\n18                        Heyheads\n19                   High Crompton\n20                      Higher End\n21                       Hindsford\n22       Houldsworth Model Village\n23                     Howe Bridge\n24                Ladybrook Valley\n25     Langley, Greater Manchester\n26        Lees, Greater Manchester\n27                      Littlemoss\n28                        Longshaw\n29                      Makerfield\n..                             ...\n34                   Mosley Common\n35     Norbury, Greater Manchester\n36                   North Reddish\n37             Old Trafford (area)\n38      Orrell, Greater Manchester\n39                      Patricroft\n40                      Peel Green\n41  Pennington, Greater Manchester\n42                       Pilsworth\n43                         Reddish\n44                        Redvales\n45                         Romiley\n46                        Rumworth\n47                        Rusholme\n48                   Salford Quays\n49                    Sedgley Park\n50                       Shakerley\n51                   South Reddish\n52                    South Turton\n53                Tonge, Middleton\n54                      Torkington\n55                   Trafford Park\n56                        Unsworth\n57                         Urmston\n58                      Wallsuches\n59                      Walmersley\n60                 Warburton Green\n61     Wardley, Greater Manchester\n62                        Wingates\n63     Woodley, Greater Manchester\n\n[64 rows x 1 columns]"
                    },
                    "execution_count": 15,
                    "metadata": {},
                    "output_type": "execute_result"
                }
            ],
            "source": "\ndf.rename(columns={'Area Of Manchester' : 'Neighborhoods' , 'Latitudes' : 'Latitude' , 'Longitudes' : 'Longitude'} , inplace=True)\ndf\n"
        },
        {
            "cell_type": "code",
            "execution_count": null,
            "metadata": {},
            "outputs": [
                {
                    "name": "stdout",
                    "output_type": "stream",
                    "text": "Solving environment: | "
                }
            ],
            "source": "\n# Downloading folium, if not installed\n!conda install -c conda-forge folium=0.5.0 --yes\nimport folium # Map plotting library\nimport numpy as np\nfrom pandas.io.json import json_normalize # Tranform JSON file into a pandas dataframe\n\n# Matplotlib and associated plotting modules\nimport matplotlib.cm as cm\nimport matplotlib.colors as colors\n\n# Import k-means from clustering stage\nfrom sklearn.cluster import KMeans\n\nprint(\"Dependencies installed !\")\n"
        },
        {
            "cell_type": "markdown",
            "metadata": {},
            "source": "\nPlotting a map using Folium of Greater Manchester  area"
        },
        {
            "cell_type": "code",
            "execution_count": null,
            "metadata": {},
            "outputs": [],
            "source": "\ngman_lat = 53.4576\ngman_lng = -2.1578\n\n# Creates map of Greater Manchester using latitude and longitude values\nmap_man = folium.Map(location=[gman_lat, gman_lng], zoom_start=10)\n\n# Add markers to map\nfor lat, lng, neighborhood in zip(df['Latitude'], df['Longitude'], df['Neighborhoods']):\n    label = '{}'.format(neighborhood)\n    label = folium.Popup(label, parse_html=True)\n    folium.CircleMarker(\n        [lat, lng],\n        radius=8,\n        popup=label,\n        color='blue',\n        fill=True,\n        fill_color='#3186cc',\n        fill_opacity=0.7,\n        parse_html=False).add_to(map_man)  \n    \nmap_man\n"
        },
        {
            "cell_type": "code",
            "execution_count": null,
            "metadata": {},
            "outputs": [],
            "source": "\nCLIENT_ID = 'XEIY3JJQY0QPPPG2MDYWUF11EPSEOHRZJBCJCCIFVJYBZ10O'\nCLIENT_SECRET = 'LIANY3ONJGEYMTTUHOQSOS2S33Q4K4VABZPEYAMU2YDLR301'\nVERSION = '20200415'\n"
        },
        {
            "cell_type": "code",
            "execution_count": null,
            "metadata": {},
            "outputs": [],
            "source": "\ndef get_category_type(row):\n    \n    categories_list = row['Category']  \n    \n    if len(categories_list) == 0:\n        return None\n    else:\n        return categories_list[0]['name']\n"
        },
        {
            "cell_type": "code",
            "execution_count": null,
            "metadata": {},
            "outputs": [],
            "source": "\ncol = 0\nexplored_lat_lng = []\nfor lat, lng, neighbourhood in zip(df['Latitude'], df['Longitude'], df['Neighborhoods']):\n    if (lat, lng) in explored_lat_lng:\n        col = col + 1\n    else:\n        explored_lat_lng.append((lat, lng))\n\nprint(\"Collisions : \", col)\n"
        },
        {
            "cell_type": "code",
            "execution_count": null,
            "metadata": {},
            "outputs": [],
            "source": "\nimport json\n"
        },
        {
            "cell_type": "code",
            "execution_count": null,
            "metadata": {},
            "outputs": [],
            "source": "\nexplore_df_list = []\n\nfor i, nbd_name in enumerate(df['Neighborhoods']):  \n    try :\n        ### Getting the data of neighbourhood\n        nbd_name = df.loc[i, 'Neighborhoods']\n        nbd_lat = df.loc[i, 'Latitude']\n        nbd_lng = df.loc[i, 'Longitude']\n\n        radius = 1000 # Setting the radius as 1000 metres\n        LIMIT = 30 # Getting the top 30 venues\n\n        url = 'https://api.foursquare.com/v2/venues/explore?client_id={} \\\n        &client_secret={}&ll={},{}&v={}&radius={}&limit={}'\\\n        .format(CLIENT_ID, CLIENT_SECRET, nbd_lat, nbd_lng, VERSION, radius, LIMIT)\n\n        results = json.loads(requests.get(url).text)\n        results = results['response']['groups'][0]['items']\n\n        nearby = json_normalize(results) # Flattens JSON\n        \n         # Filtering the columns\n        filtered_columns = ['venue.name', 'venue.categories', 'venue.location.lat', 'venue.location.lng']\n        nearby = nearby.loc[:, filtered_columns]\n\n        # Renaming the columns\n        columns = ['Name', 'Category', 'Latitude', 'Longitude']\n        nearby.columns = columns\n\n        # Gets the categories\n        nearby['Category'] = nearby.apply(get_category_type, axis=1)    \n\n        # Gets the data required\n        for i, name in enumerate(nearby['Name']):\n            s_list = nearby.loc[i, :].values.tolist()  # Converts the numpy array to a python list\n            f_list = [nbd_name, nbd_lat, nbd_lng] + s_list\n            explore_df_list.append(f_list)\n\n    except Exception as e:\n        pass\n"
        },
        {
            "cell_type": "code",
            "execution_count": null,
            "metadata": {},
            "outputs": [],
            "source": "\nexplore_df = pd.DataFrame([item for item in explore_df_list])\nexplore_df.columns = ['Neighbourhood', 'Neighbourhood Latitude', 'Neighbourhood Longitude', 'Venue Name', 'Venue Category', 'Venue Latitude', 'Venue Longitude']\nexplore_df\n"
        },
        {
            "cell_type": "code",
            "execution_count": null,
            "metadata": {},
            "outputs": [],
            "source": "\n# One hot encoding\nman_onehot = pd.get_dummies(explore_df[['Venue Category']], prefix=\"\", prefix_sep=\"\")\n\n# Add neighborhood column back to dataframe\nman_onehot['Neighbourhood'] = explore_df['Neighbourhood'] \n\n# Move neighborhood column to the first column\nfixed_columns = [man_onehot.columns[-1]] + man_onehot.columns[:-1].values.tolist()\nman_onehot = man_onehot[fixed_columns]\n\nman_onehot\n"
        },
        {
            "cell_type": "code",
            "execution_count": null,
            "metadata": {},
            "outputs": [],
            "source": "\nman_grouped = man_onehot.groupby('Neighbourhood').mean().reset_index()\nman_grouped.head()\n"
        },
        {
            "cell_type": "code",
            "execution_count": null,
            "metadata": {},
            "outputs": [],
            "source": "\ndef return_most_common_venues(row, num_top_venues):\n    row_categories = row.iloc[1:]\n    row_categories_sorted = row_categories.sort_values(ascending=False)\n    \n    return row_categories_sorted.index.values[0:num_top_venues]\n"
        },
        {
            "cell_type": "code",
            "execution_count": null,
            "metadata": {},
            "outputs": [],
            "source": "\nnum_top_venues = 10\nindicators = ['st', 'nd', 'rd']\n\n# Create columns according to number of top venues\ncolumns = ['Neighbourhood']\nfor ind in np.arange(num_top_venues):\n    try:\n        columns.append('{}{} Most Common Venue'.format(ind+1, indicators[ind]))\n    except:\n        columns.append('{}th Most Common Venue'.format(ind+1))\n\n# Create a new dataframe\nneighbourhoods_venues_sorted = pd.DataFrame(columns=columns)\nneighbourhoods_venues_sorted['Neighbourhood'] = man_grouped['Neighbourhood']\n\nfor ind in np.arange(man_grouped.shape[0]):\n    neighbourhoods_venues_sorted.iloc[ind, 1:] = return_most_common_venues(man_grouped.iloc[ind, :], num_top_venues)\n\nneighbourhoods_venues_sorted.head()\n"
        },
        {
            "cell_type": "code",
            "execution_count": null,
            "metadata": {},
            "outputs": [],
            "source": "\nman_grouped_clustering = man_grouped.drop('Neighbourhood', 1)\n"
        },
        {
            "cell_type": "code",
            "execution_count": null,
            "metadata": {},
            "outputs": [],
            "source": "\nimport matplotlib.pyplot as plt\n%matplotlib inline\n\ndef plot(x, y, xlabel, ylabel):\n    plt.figure(figsize=(20,10))\n    plt.plot(np.arange(2, x), y, 'o-')\n    plt.xlabel(xlabel)\n    plt.ylabel(ylabel)\n    plt.xticks(np.arange(2, x))\n    plt.show()\n"
        },
        {
            "cell_type": "code",
            "execution_count": null,
            "metadata": {},
            "outputs": [],
            "source": "\nmax_range = 20 # Maximum range of clusters\n"
        },
        {
            "cell_type": "code",
            "execution_count": null,
            "metadata": {},
            "outputs": [],
            "source": "\nfrom sklearn.metrics import silhouette_samples, silhouette_score\n\nindices = []\nscores = []\n\nfor kclusters in range(2, max_range) :\n    \n    # Run k-means clustering\n    kgc = man_grouped_clustering\n    kmeans = KMeans(n_clusters = kclusters, init = 'k-means++', random_state = 0).fit_predict(kgc)\n    \n    # Gets the score for the clustering operation performed\n    score = silhouette_score(kgc, kmeans)\n    \n    # Appending the index and score to the respective lists\n    indices.append(kclusters)\n    scores.append(score)\n"
        },
        {
            "cell_type": "code",
            "execution_count": null,
            "metadata": {},
            "outputs": [],
            "source": "\nplot(max_range, scores, \"No. of clusters\", \"Silhouette Score\")\n"
        },
        {
            "cell_type": "code",
            "execution_count": null,
            "metadata": {},
            "outputs": [],
            "source": "\nopt = np.argmax(scores) + 2 # Finds the optimal value\nopt\n"
        },
        {
            "cell_type": "code",
            "execution_count": null,
            "metadata": {},
            "outputs": [],
            "source": "\nkclusters = opt\n\n# Run k-means clustering\nkgc = man_grouped_clustering\nkmeans = KMeans(n_clusters = kclusters, init = 'k-means++', random_state = 0).fit(kgc)\n"
        },
        {
            "cell_type": "code",
            "execution_count": null,
            "metadata": {},
            "outputs": [],
            "source": ""
        },
        {
            "cell_type": "code",
            "execution_count": null,
            "metadata": {},
            "outputs": [],
            "source": "\nneighbourhoods_venues_sorted.insert(0, 'Cluster Labels', kmeans.labels_)\n"
        },
        {
            "cell_type": "code",
            "execution_count": null,
            "metadata": {},
            "outputs": [],
            "source": "\nman_merged = df\nman_merged = man_merged.join(neighbourhoods_venues_sorted.set_index('Neighbourhood'), on='Neighborhoods')\nman_merged.dropna(inplace = True)\nman_merged['Cluster Labels'] = man_merged['Cluster Labels'].astype(int)\nman_merged\n"
        },
        {
            "cell_type": "markdown",
            "metadata": {},
            "source": "## visualization of clusters"
        },
        {
            "cell_type": "code",
            "execution_count": null,
            "metadata": {},
            "outputs": [],
            "source": "\n# Create map\nmap_clusters = folium.Map(location=[gman_lat, gman_lng], zoom_start=11)\n\n# Set color scheme for the clusters\nx = np.arange(kclusters)\nys = [i + x + (i*x)**2 for i in range(kclusters)]\ncolors_array = cm.rainbow(np.linspace(0, 1, len(ys)))\nrainbow = [colors.rgb2hex(i) for i in colors_array]\n\n# Add markers to the map\nmarkers_colors = []\nfor lat, lon, poi, cluster in zip(man_merged['Latitude'], man_merged['Longitude'], man_merged['Neighborhoods'], man_merged['Cluster Labels']):\n    label = folium.Popup(str(poi) + ' (Cluster ' + str(cluster + 1) + ')', parse_html=True)\n    map_clusters.add_child(\n        folium.features.CircleMarker(\n        [lat, lon],\n        radius=7,\n        popup=label,\n        color=rainbow[cluster-1],\n        fill=True,\n        fill_color=rainbow[cluster-1],\n        fill_opacity=0.7))\n       \nmap_clusters\n"
        },
        {
            "cell_type": "code",
            "execution_count": null,
            "metadata": {},
            "outputs": [],
            "source": "\nval = 1\nman_merged.loc[man_merged['Cluster Labels'] == (val - 1), man_merged.columns[[0] + np.arange(4, man_merged.shape[1]).tolist()]]\n"
        },
        {
            "cell_type": "code",
            "execution_count": null,
            "metadata": {},
            "outputs": [],
            "source": ""
        },
        {
            "cell_type": "code",
            "execution_count": null,
            "metadata": {},
            "outputs": [],
            "source": ""
        },
        {
            "cell_type": "code",
            "execution_count": null,
            "metadata": {},
            "outputs": [],
            "source": ""
        },
        {
            "cell_type": "code",
            "execution_count": null,
            "metadata": {},
            "outputs": [],
            "source": ""
        },
        {
            "cell_type": "code",
            "execution_count": null,
            "metadata": {},
            "outputs": [],
            "source": ""
        }
    ],
    "metadata": {
        "kernelspec": {
            "display_name": "Python 3.6",
            "language": "python",
            "name": "python3"
        },
        "language_info": {
            "codemirror_mode": {
                "name": "ipython",
                "version": 3
            },
            "file_extension": ".py",
            "mimetype": "text/x-python",
            "name": "python",
            "nbconvert_exporter": "python",
            "pygments_lexer": "ipython3",
            "version": "3.6.9"
        }
    },
    "nbformat": 4,
    "nbformat_minor": 1
}